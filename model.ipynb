{
 "cells": [
  {
   "cell_type": "code",
   "execution_count": 7,
   "metadata": {},
   "outputs": [],
   "source": [
    "import cv2\n",
    "import numpy as np\n",
    "import torch\n",
    "from torch.utils.data import DataLoader, Dataset\n",
    "import os"
   ]
  },
  {
   "cell_type": "code",
   "execution_count": 8,
   "metadata": {},
   "outputs": [],
   "source": [
    "class CustomDataset(Dataset):\n",
    "    def __init__(self, root_dir, transform=None):\n",
    "        \"\"\"\n",
    "        Args:\n",
    "            root_dir (string): Directory with all the images.\n",
    "            transform (callable, optional): Optional transform to be applied\n",
    "                on a sample.\n",
    "        \"\"\"\n",
    "        self.root_dir = root_dir\n",
    "        self.transform = transform\n",
    "        self.classes, self.class_to_idx = self._find_classes(self.root_dir)\n",
    "        self.imgs = self._make_dataset()\n",
    "\n",
    "    def _find_classes(self, dir):\n",
    "        \"\"\"\n",
    "        Finds the class folders in a dataset.\n",
    "        \"\"\"\n",
    "        classes = [d.name for d in os.scandir(dir) if d.is_dir()]\n",
    "        classes.sort()\n",
    "        class_to_idx = {cls_name: i for i, cls_name in enumerate(classes)}\n",
    "        return classes, class_to_idx\n",
    "\n",
    "    def _make_dataset(self):\n",
    "        \"\"\"\n",
    "        Creates a list of samples with their class indices.\n",
    "        \"\"\"\n",
    "        images = []\n",
    "        for target in sorted(self.class_to_idx.keys()):\n",
    "            d = os.path.join(self.root_dir, target)\n",
    "            if not os.path.isdir(d):\n",
    "                continue\n",
    "            for root, _, fnames in sorted(os.walk(d)):\n",
    "                for fname in sorted(fnames):\n",
    "                    path = os.path.join(root, fname)\n",
    "                    item = (path, self.class_to_idx[target])\n",
    "                    images.append(item)\n",
    "        return images\n",
    "\n",
    "    def __len__(self):\n",
    "        return len(self.imgs)\n",
    "\n",
    "    def __getitem__(self, idx):\n",
    "        path, target = self.imgs[idx]\n",
    "        # Using cv2 to read and process images\n",
    "        img = cv2.imread(path)\n",
    "        img = cv2.cvtColor(img, cv2.COLOR_BGR2RGB)  # Convert from BGR to RGB\n",
    "\n",
    "        if self.transform:\n",
    "            img = self.transform(img)\n",
    "\n",
    "        return img, target\n"
   ]
  },
  {
   "cell_type": "code",
   "execution_count": 9,
   "metadata": {},
   "outputs": [],
   "source": [
    "# Example transform function that can be used with the CustomDataset\n",
    "def transform(image):\n",
    "    # Resize image to 224x224\n",
    "    image = cv2.resize(image, (224, 224))\n",
    "    # Randomly flip image horizontally\n",
    "    if np.random.rand() > 0.5:\n",
    "        image = cv2.flip(image, 1)\n",
    "    # Convert image to PyTorch tensor and scale to [0,1] (it helps to normalize, Numerical Stability)\n",
    "    # Matching Activation Functions: Many neural network architectures use activation functions like sigmoid or tanh in their layers. \n",
    "    # These functions squeeze their input values into the range [0,1][0,1] \n",
    "    # Pre-trained Model Compatibility: Many pre-trained models (e.g., models available in torchvision or TensorFlow model libraries) \n",
    "    # expect input images to be scaled to [0,1][0,1]\n",
    "    image = torch.from_numpy(image).permute(2, 0, 1).float() / 255.0\n",
    "    return image"
   ]
  },
  {
   "cell_type": "code",
   "execution_count": 10,
   "metadata": {},
   "outputs": [],
   "source": [
    "# Usage example\n",
    "train_dataset = CustomDataset(root_dir='data/train', transform=transform)\n",
    "train_loader = DataLoader(train_dataset, batch_size=32, shuffle=True)\n",
    "\n",
    "# Now you can iterate over train_loader in your training loop"
   ]
  }
 ],
 "metadata": {
  "kernelspec": {
   "display_name": "ctscan",
   "language": "python",
   "name": "python3"
  },
  "language_info": {
   "codemirror_mode": {
    "name": "ipython",
    "version": 3
   },
   "file_extension": ".py",
   "mimetype": "text/x-python",
   "name": "python",
   "nbconvert_exporter": "python",
   "pygments_lexer": "ipython3",
   "version": "3.10.12"
  }
 },
 "nbformat": 4,
 "nbformat_minor": 2
}
